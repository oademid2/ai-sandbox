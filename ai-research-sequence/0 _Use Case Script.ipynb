{
 "cells": [
  {
   "cell_type": "code",
   "execution_count": null,
   "id": "91a4f5b5-5f05-4ea5-8adb-6a58f936d602",
   "metadata": {},
   "outputs": [],
   "source": [
    "# explain different components"
   ]
  },
  {
   "cell_type": "markdown",
   "id": "a22feb04-26ea-4f46-a338-80ac855cc49a",
   "metadata": {},
   "source": [
    "### PART 1: SANDBOX PROMPT ENGINEERING FOR LLM WORK FLOW"
   ]
  },
  {
   "cell_type": "code",
   "execution_count": 9,
   "id": "4ad4def8-fc5a-44f3-8bb8-97b744820593",
   "metadata": {},
   "outputs": [],
   "source": [
    "from dotenv import load_dotenv\n",
    "import json\n",
    "import os\n",
    "from concurrent.futures import ThreadPoolExecutor, as_completed\n",
    "import pandas as pd\n",
    "\n",
    "from openai import OpenAI\n",
    "from exa_py import Exa\n",
    "\n"
   ]
  },
  {
   "cell_type": "code",
   "execution_count": 10,
   "id": "e30533cf-0fab-4416-a72f-5b9c0dc41e11",
   "metadata": {},
   "outputs": [],
   "source": [
    "load_dotenv()  # loads environment variables from .env\n",
    "EXA_API_KEY = os.getenv(\"EXA_API_KEY\")"
   ]
  },
  {
   "cell_type": "code",
   "execution_count": 11,
   "id": "04138f5b-f844-455e-881f-f8d38afdea5a",
   "metadata": {},
   "outputs": [],
   "source": [
    "exa = Exa(EXA_API_KEY)\n",
    "client = OpenAI()"
   ]
  },
  {
   "cell_type": "markdown",
   "id": "b7568c6f-2559-45e6-8dbf-c3ae584cca5c",
   "metadata": {},
   "source": [
    "### Define system message\n",
    "This gives the LLM context on how to behave "
   ]
  },
  {
   "cell_type": "code",
   "execution_count": 12,
   "id": "9ee9beee-96bd-48ba-8dd9-661430f6bdab",
   "metadata": {},
   "outputs": [],
   "source": [
    "system_message = \"\"\"\n",
    "You are a professional market sizing assistant. \n",
    "Your role is to design clear, structured models for market sizing problems, identify and list the key data inputs needed, and suggest possible data sources or proxies when direct data is unavailable. \n",
    "Always present your answers in a structured deconustructed format.\n",
    "\"\"\""
   ]
  },
  {
   "cell_type": "code",
   "execution_count": 13,
   "id": "52d61eec-8c81-45d5-96d3-ff9497b28c8a",
   "metadata": {},
   "outputs": [],
   "source": [
    "def chat_response(prompt,system_message=system_message):\n",
    "    response = client.chat.completions.create(\n",
    "        model=\"gpt-4o\",\n",
    "        messages=[\n",
    "            {\"role\": \"system\", \"content\": system_message},\n",
    "            {\"role\": \"user\", \"content\": prompt}\n",
    "        ]\n",
    "        ,\n",
    "          response_format={ \"type\": \"json_object\" }\n",
    "\n",
    "    )\n",
    "\n",
    "    return response.choices[0].message.content\n",
    "\n",
    "def chat_response_txt(prompt,system_message=system_message):\n",
    "    response = client.chat.completions.create(\n",
    "        model=\"gpt-4o\",\n",
    "        messages=[\n",
    "            {\"role\": \"system\", \"content\": system_message},\n",
    "            {\"role\": \"user\", \"content\": prompt}\n",
    "        ]\n",
    "        \n",
    "    )\n",
    "\n",
    "    return response.choices[0].message.content\n",
    "\n"
   ]
  },
  {
   "cell_type": "markdown",
   "id": "fee2f77c-41cf-47e1-9de6-3881fc9cecca",
   "metadata": {},
   "source": [
    "### Define prompts\n",
    "This is where we'll define all the prompts that get passed into the LLM"
   ]
  },
  {
   "cell_type": "code",
   "execution_count": 14,
   "id": "7557a16f-80a6-45af-80f3-07af67cddd14",
   "metadata": {},
   "outputs": [],
   "source": [
    "market_formula_pre_prompt = \"\"\"\n",
    "I want to size the market for: edtech software management. The software tool allows teachers to manage the logistics of their classrooms.\n",
    "\n",
    "I want the output to be a market size formula.\n",
    "\n",
    "Before generating the formula, are there any clarifying questions to get additional context needed for a good formula?\n",
    "\n",
    "These questions should be able to directly inform the formula inputs. They do not to be detailed / indepth.\n",
    "\"\"\""
   ]
  },
  {
   "cell_type": "code",
   "execution_count": 15,
   "id": "81e65023-e53e-4c29-94e5-5295ecc6d15a",
   "metadata": {},
   "outputs": [
    {
     "data": {
      "text/plain": [
       "'To develop an accurate market size formula for edtech software management tools, here are some clarifying questions that would provide additional context and refine the formula inputs:\\n\\n1. **Target Audience:**\\n   - Is the software intended for a specific level of education (e.g., K-12, higher education)?\\n   \\n2. **Geographic Scope:**\\n   - What is the target market region (e.g., global, specific countries, or regions)?\\n\\n3. **Pricing Model:**\\n   - What is the pricing strategy (e.g., subscription-based, one-time purchase, freemium)?\\n\\n4. **Sales Model:**\\n   - Is the software sold directly to schools, districts, or individual teachers?\\n\\n5. **Competitors:**\\n   - Are there key competitors whose market share could provide context for sizing?\\n\\n6. **Adoption Rate:**\\n   - What are the current adoption rates for similar software tools in the target market?\\n\\n7. **Market Trends:**\\n   - Are there any industry trends or projections regarding the growth of edtech in the specific regions?\\n\\n8. **School Size:**\\n   - On average, how many classrooms or teachers are in the schools within the target market?\\n\\n9. **Budget Allocations:**\\n   - What is the typical budget allocation for technology or software in the schools or institutions targeted?\\n\\nThese questions will help in shaping the components of the formula and ensuring that it captures the necessary market dynamics and characteristics specific to edtech software management tools.'"
      ]
     },
     "execution_count": 15,
     "metadata": {},
     "output_type": "execute_result"
    }
   ],
   "source": [
    "market_formula_clarification_guide_response = chat_response_txt(market_formula_pre_prompt)\n",
    "market_formula_clarification_guide_response"
   ]
  },
  {
   "cell_type": "code",
   "execution_count": 16,
   "id": "e71ac866-5ce7-46cf-995e-029285907730",
   "metadata": {},
   "outputs": [],
   "source": [
    "market_formula_brainstorm_prompt = \"\"\"\n",
    "I want to size the market for: edtech software management. The software tool allows teachers to manage the logistics of their classrooms.\n",
    "\n",
    "Please return a JSON with the following fields,\n",
    "\n",
    "steps: string - A numbered text overview of all the steps in the market sizing approach. Steps should be clear and sequential, explaining the reasoning process.\n",
    "formula: list of string - market sizing formulas options expressed as a string. Each representing an approach to calculate the market size. Each formula must exclude explicit adoption rate terms (e.g., 'adoption rate', 'penetration rate') but can implicitly account for expected usage segments. Do not use adoption rate / penetration rate or alike as part of the formula. \n",
    "The formula should, if applicable, should already factor in parameters of market adoption (i.e. segments that would vs not use the product)\n",
    "But any sort of adoption rate / penetration rate should not be in the formula.\n",
    "clarifications: list of string  - list of clarifying questions to consider for the formulas that could help improve or iterate\n",
    "\n",
    "\n",
    "\"\"\"\n"
   ]
  },
  {
   "cell_type": "code",
   "execution_count": 21,
   "id": "f5e7d366",
   "metadata": {},
   "outputs": [
    {
     "name": "stdout",
     "output_type": "stream",
     "text": [
      "{\n",
      "  \"steps\": \"1. Define the target market: Determine the geographic region and educational levels (primary, secondary, etc.) relevant to your software. \\n2. Identify the number of potential customers: Calculate the total number of schools or educational institutions within the specified region and levels. \\n3. Determine the number of teachers per institution: Estimate the average number of teachers in each school type. \\n4. Price estimation: Establish a range for pricing the software per teacher or institution. \\n5. Estimate the School Budget Allocation: Assess how much an average institution is willing to spend on classroom management software annually. \\n6. Calculate the total available market: Combine the number of target institutions, number of teachers, and estimated pricing to compute the total market potential.\",\n",
      "  \n",
      "  \"formula\": [\n",
      "    \"Total Market Size = (Number of Schools) * (Average Number of Teachers per School) * (Annual Software Cost per Teacher)\",\n",
      "    \"Total Market Size = (Number of Schools) * (Proportion of Schools with Classroom Management Budget) * (Annual Software Cost per School)\"\n",
      "  ],\n",
      "  \n",
      "  \"clarifications\": [\n",
      "    \"What is the geographic scope of the market? Is it domestic or international?\",\n",
      "    \"What school types are being targeted (e.g., public, private, charter)? Do they have different budget constraints?\",\n",
      "    \"What is the estimated average price of the software per teacher or school?\",\n",
      "    \"How many schools have the educational budget allocated for software tools like this?\",\n",
      "    \"How many teachers, typically, are there per school, and does this vary significantly across regions?\",\n",
      "    \"Are there any existing competitors, and what are their pricing models?\"\n",
      "  ]\n",
      "}\n",
      "['Total Market Size = (Number of Schools) * (Average Number of Teachers per School) * (Annual Software Cost per Teacher)', 'Total Market Size = (Number of Schools) * (Proportion of Schools with Classroom Management Budget) * (Annual Software Cost per School)']\n"
     ]
    }
   ],
   "source": [
    "market_formula_brainstorm_response = chat_response(market_formula_brainstorm_prompt)\n",
    "print(market_formula_brainstorm_response)\n",
    "market_brainstorm_formulas = json.loads(market_formula_brainstorm_response)[\"formula\"]\n",
    "print(market_brainstorm_formulas)"
   ]
  },
  {
   "cell_type": "code",
   "execution_count": 22,
   "id": "4bb19a0c",
   "metadata": {},
   "outputs": [],
   "source": [
    "market_formula_datasource_prompt = \"\"\"\n",
    "This is the formula which I want to apply for market modelling: {formula}\n",
    "\n",
    "\n",
    "For each component find different sources that can be used to find the data point.\n",
    "\n",
    "Please return the response in JSON format with the following structure\n",
    "\n",
    "\"components\": [\n",
    "  \"component\": \"string - The name of the component in the formula.\",\n",
    "  \"data_sources\": [\n",
    "      \"DATA_COMPONENT\": \"string - The name of the component this data source relates to.\",\n",
    "      \"DATA_SOURCE_NAME\": \"string - The name of the data source.\",\n",
    "      \"DATA_SOURCE_LINK\": \"string - A link (URL) to the data source.\",\n",
    "      \"DATA_SOURCE_OVERVIEW\": \"string - A brief text description or preview of what the data source contains.\",\n",
    "      \"DATA_POINT\": \"number - A numeric value representing the data point extracted from this source.\"\n",
    "  ]\n",
    "  \n",
    "\n",
    "\n",
    "\n",
    "FIELD DEFINITIONS\n",
    "components: A list where each item represents a unique component from the formula.\n",
    "component: The name of the component.\n",
    "data_sources: A list of potential data sources for that component, each containing:\n",
    "    -- DATA_COMPONENT: The component name.\n",
    "    -- DATA_SOURCE_NAME: The name of the data source.\n",
    "    -- DATA_SOURCE_LINK: A direct URL to the data source if available.\n",
    "    -- DATA_SOURCE_OVERVIEW: A brief overview of the data source’s contents or relevance.\n",
    "    -- DATA_POINT: A numeric estimate of the data value from that source.\n",
    "\n",
    "Please ensure the JSON matches this structure exactly.\n",
    "\"\"\"\n",
    "\n"
   ]
  },
  {
   "cell_type": "code",
   "execution_count": 23,
   "id": "f66438e5",
   "metadata": {},
   "outputs": [
    {
     "name": "stdout",
     "output_type": "stream",
     "text": [
      "\n",
      "{\n",
      "  \"components\": [\n",
      "    {\n",
      "      \"component\": \"Number of Schools\",\n",
      "      \"data_sources\": [\n",
      "        {\n",
      "          \"DATA_COMPONENT\": \"Number of Schools\",\n",
      "          \"DATA_SOURCE_NAME\": \"National Center for Education Statistics\",\n",
      "          \"DATA_SOURCE_LINK\": \"https://nces.ed.gov/\",\n",
      "          \"DATA_SOURCE_OVERVIEW\": \"Provides comprehensive statistics on educational institutions in the United States.\",\n",
      "          \"DATA_POINT\": null\n",
      "        },\n",
      "        {\n",
      "          \"DATA_COMPONENT\": \"Number of Schools\",\n",
      "          \"DATA_SOURCE_NAME\": \"UNESCO Institute for Statistics\",\n",
      "          \"DATA_SOURCE_LINK\": \"http://uis.unesco.org/\",\n",
      "          \"DATA_SOURCE_OVERVIEW\": \"Offers global data on educational institutions by country.\",\n",
      "          \"DATA_POINT\": null\n",
      "        },\n",
      "        {\n",
      "          \"DATA_COMPONENT\": \"Number of Schools\",\n",
      "          \"DATA_SOURCE_NAME\": \"Government Education Departments\",\n",
      "          \"DATA_SOURCE_LINK\": \"Varies by country e.g., [U.S. Department of Education](https://www.ed.gov/)\",\n",
      "          \"DATA_SOURCE_OVERVIEW\": \"Country-specific data on the number of schools.\",\n",
      "          \"DATA_POINT\": null\n",
      "        }\n",
      "      ]\n",
      "    },\n",
      "    {\n",
      "      \"component\": \"Average Number of Teachers per School\",\n",
      "      \"data_sources\": [\n",
      "        {\n",
      "          \"DATA_COMPONENT\": \"Average Number of Teachers per School\",\n",
      "          \"DATA_SOURCE_NAME\": \"National Center for Education Statistics\",\n",
      "          \"DATA_SOURCE_LINK\": \"https://nces.ed.gov/\",\n",
      "          \"DATA_SOURCE_OVERVIEW\": \"Comprehensive statistics on the average number of teachers per school in the U.S.\",\n",
      "          \"DATA_POINT\": null\n",
      "        },\n",
      "        {\n",
      "          \"DATA_COMPONENT\": \"Average Number of Teachers per School\",\n",
      "          \"DATA_SOURCE_NAME\": \"UNESCO Institute for Statistics\",\n",
      "          \"DATA_SOURCE_LINK\": \"http://uis.unesco.org/\",\n",
      "          \"DATA_SOURCE_OVERVIEW\": \"Offers worldwide data on teacher counts per educational institution.\",\n",
      "          \"DATA_POINT\": null\n",
      "        },\n",
      "        {\n",
      "          \"DATA_COMPONENT\": \"Average Number of Teachers per School\",\n",
      "          \"DATA_SOURCE_NAME\": \"OECD Education at a Glance\",\n",
      "          \"DATA_SOURCE_LINK\": \"http://www.oecd.org/education/education-at-a-glance/\",\n",
      "          \"DATA_SOURCE_OVERVIEW\": \"Contains data on teaching staff in OECD countries.\",\n",
      "          \"DATA_POINT\": null\n",
      "        }\n",
      "      ]\n",
      "    },\n",
      "    {\n",
      "      \"component\": \"Annual Software Cost per Teacher\",\n",
      "      \"data_sources\": [\n",
      "        {\n",
      "          \"DATA_COMPONENT\": \"Annual Software Cost per Teacher\",\n",
      "          \"DATA_SOURCE_NAME\": \"Market Reports from Software Vendors\",\n",
      "          \"DATA_SOURCE_LINK\": \"Varies by vendor e.g., [Gartner](https://www.gartner.com/)\",\n",
      "          \"DATA_SOURCE_OVERVIEW\": \"Reports include average software expenditure per user.\",\n",
      "          \"DATA_POINT\": null\n",
      "        },\n",
      "        {\n",
      "          \"DATA_COMPONENT\": \"Annual Software Cost per Teacher\",\n",
      "          \"DATA_SOURCE_NAME\": \"Industry Surveys and Research Firms\",\n",
      "          \"DATA_SOURCE_LINK\": \"Example: [Statista](https://www.statista.com/)\",\n",
      "          \"DATA_SOURCE_OVERVIEW\": \"Surveys capturing average software expenses in education sector.\",\n",
      "          \"DATA_POINT\": null\n",
      "        },\n",
      "        {\n",
      "          \"DATA_COMPONENT\": \"Annual Software Cost per Teacher\",\n",
      "          \"DATA_SOURCE_NAME\": \"Education Technology Publications\",\n",
      "          \"DATA_SOURCE_LINK\": \"Varies, e.g., [EdTech Magazine](https://edtechmagazine.com/)\",\n",
      "          \"DATA_SOURCE_OVERVIEW\": \"Articles and studies featuring costs related to software tools in education.\",\n",
      "          \"DATA_POINT\": null\n",
      "        }\n",
      "      ]\n",
      "    }\n",
      "  ]\n",
      "}\n",
      "\n",
      "{\n",
      "  \"components\": [\n",
      "    {\n",
      "      \"component\": \"Number of Schools\",\n",
      "      \"data_sources\": [\n",
      "        {\n",
      "          \"DATA_COMPONENT\": \"Number of Schools\",\n",
      "          \"DATA_SOURCE_NAME\": \"National Center for Education Statistics\",\n",
      "          \"DATA_SOURCE_LINK\": \"https://nces.ed.gov/\",\n",
      "          \"DATA_SOURCE_OVERVIEW\": \"Provides comprehensive statistics on educational institutions in the United States.\",\n",
      "          \"DATA_POINT\": null\n",
      "        },\n",
      "        {\n",
      "          \"DATA_COMPONENT\": \"Number of Schools\",\n",
      "          \"DATA_SOURCE_NAME\": \"UNESCO Institute for Statistics\",\n",
      "          \"DATA_SOURCE_LINK\": \"http://uis.unesco.org/\",\n",
      "          \"DATA_SOURCE_OVERVIEW\": \"Offers global data on educational institutions by country.\",\n",
      "          \"DATA_POINT\": null\n",
      "        },\n",
      "        {\n",
      "          \"DATA_COMPONENT\": \"Number of Schools\",\n",
      "          \"DATA_SOURCE_NAME\": \"Government Education Departments\",\n",
      "          \"DATA_SOURCE_LINK\": \"Varies by country e.g., [U.S. Department of Education](https://www.ed.gov/)\",\n",
      "          \"DATA_SOURCE_OVERVIEW\": \"Country-specific data on the number of schools.\",\n",
      "          \"DATA_POINT\": null\n",
      "        }\n",
      "      ]\n",
      "    },\n",
      "    {\n",
      "      \"component\": \"Average Number of Teachers per School\",\n",
      "      \"data_sources\": [\n",
      "        {\n",
      "          \"DATA_COMPONENT\": \"Average Number of Teachers per School\",\n",
      "          \"DATA_SOURCE_NAME\": \"National Center for Education Statistics\",\n",
      "          \"DATA_SOURCE_LINK\": \"https://nces.ed.gov/\",\n",
      "          \"DATA_SOURCE_OVERVIEW\": \"Comprehensive statistics on the average number of teachers per school in the U.S.\",\n",
      "          \"DATA_POINT\": null\n",
      "        },\n",
      "        {\n",
      "          \"DATA_COMPONENT\": \"Average Number of Teachers per School\",\n",
      "          \"DATA_SOURCE_NAME\": \"UNESCO Institute for Statistics\",\n",
      "          \"DATA_SOURCE_LINK\": \"http://uis.unesco.org/\",\n",
      "          \"DATA_SOURCE_OVERVIEW\": \"Offers worldwide data on teacher counts per educational institution.\",\n",
      "          \"DATA_POINT\": null\n",
      "        },\n",
      "        {\n",
      "          \"DATA_COMPONENT\": \"Average Number of Teachers per School\",\n",
      "          \"DATA_SOURCE_NAME\": \"OECD Education at a Glance\",\n",
      "          \"DATA_SOURCE_LINK\": \"http://www.oecd.org/education/education-at-a-glance/\",\n",
      "          \"DATA_SOURCE_OVERVIEW\": \"Contains data on teaching staff in OECD countries.\",\n",
      "          \"DATA_POINT\": null\n",
      "        }\n",
      "      ]\n",
      "    },\n",
      "    {\n",
      "      \"component\": \"Annual Software Cost per Teacher\",\n",
      "      \"data_sources\": [\n",
      "        {\n",
      "          \"DATA_COMPONENT\": \"Annual Software Cost per Teacher\",\n",
      "          \"DATA_SOURCE_NAME\": \"Market Reports from Software Vendors\",\n",
      "          \"DATA_SOURCE_LINK\": \"Varies by vendor e.g., [Gartner](https://www.gartner.com/)\",\n",
      "          \"DATA_SOURCE_OVERVIEW\": \"Reports include average software expenditure per user.\",\n",
      "          \"DATA_POINT\": null\n",
      "        },\n",
      "        {\n",
      "          \"DATA_COMPONENT\": \"Annual Software Cost per Teacher\",\n",
      "          \"DATA_SOURCE_NAME\": \"Industry Surveys and Research Firms\",\n",
      "          \"DATA_SOURCE_LINK\": \"Example: [Statista](https://www.statista.com/)\",\n",
      "          \"DATA_SOURCE_OVERVIEW\": \"Surveys capturing average software expenses in education sector.\",\n",
      "          \"DATA_POINT\": null\n",
      "        },\n",
      "        {\n",
      "          \"DATA_COMPONENT\": \"Annual Software Cost per Teacher\",\n",
      "          \"DATA_SOURCE_NAME\": \"Education Technology Publications\",\n",
      "          \"DATA_SOURCE_LINK\": \"Varies, e.g., [EdTech Magazine](https://edtechmagazine.com/)\",\n",
      "          \"DATA_SOURCE_OVERVIEW\": \"Articles and studies featuring costs related to software tools in education.\",\n",
      "          \"DATA_POINT\": null\n",
      "        }\n",
      "      ]\n",
      "    }\n",
      "  ]\n",
      "}\n"
     ]
    }
   ],
   "source": [
    "formula = market_brainstorm_formulas[0]\n",
    "market_formula_datasource_response = chat_response(market_formula_datasource_prompt.format(formula=formula))\n",
    "print(market_formula_datasource_response)\n",
    "market_formula_datasource = json.loads(market_formula_datasource_response)\n",
    "print(market_formula_datasource_response)"
   ]
  },
  {
   "cell_type": "markdown",
   "id": "2e12edfc-808c-4e2c-abd8-dbc808154653",
   "metadata": {},
   "source": [
    "### Connect to EXA to get data sources"
   ]
  },
  {
   "cell_type": "code",
   "execution_count": null,
   "id": "518623f8-df10-4525-bc30-41a2a895efdf",
   "metadata": {
    "scrolled": true
   },
   "outputs": [],
   "source": [
    "#exa example..\n",
    "result = exa.answer(\n",
    "    \"What is the Number of Educational Institutions in the u.s\",\n",
    "    stream=False,\n",
    "    text=True\n",
    ")\n",
    "\n",
    "print(result)"
   ]
  },
  {
   "cell_type": "code",
   "execution_count": 24,
   "id": "82af7f57-5e65-4761-a54e-74e8ead1855a",
   "metadata": {},
   "outputs": [
    {
     "ename": "NameError",
     "evalue": "name 'result' is not defined",
     "output_type": "error",
     "traceback": [
      "\u001b[31m---------------------------------------------------------------------------\u001b[39m",
      "\u001b[31mNameError\u001b[39m                                 Traceback (most recent call last)",
      "\u001b[36mCell\u001b[39m\u001b[36m \u001b[39m\u001b[32mIn[24]\u001b[39m\u001b[32m, line 33\u001b[39m\n\u001b[32m     29\u001b[39m     exa_data_source = exa_data_source | exa_result_synthesis_json\n\u001b[32m     30\u001b[39m     \u001b[38;5;28;01mreturn\u001b[39;00m exa_data_source\n\u001b[32m---> \u001b[39m\u001b[32m33\u001b[39m exa_answer_result = \u001b[43mresult\u001b[49m.citations[\u001b[32m0\u001b[39m]\n\u001b[32m     34\u001b[39m exa_data_extraction(exa_answer_result)\n",
      "\u001b[31mNameError\u001b[39m: name 'result' is not defined"
     ]
    }
   ],
   "source": [
    "exa_synthesis_prompt = \"\"\"\n",
    "The following text is from a data source:\n",
    "{text}\n",
    "\n",
    "Please extract a numeric data point for {component}\n",
    "Then provide a short summary of the text as condensed as possible.\n",
    "\n",
    "Please return the response in JSON format with the following structure\n",
    "\n",
    "DATA_POINT: numeric data numeric data point for {component}\n",
    "DATA_SOURCE_OVERVIEW: a short summary of the text. This summary should be an overview of the information contained in the text.\n",
    "\n",
    "\"\"\"\n",
    "\n",
    "def exa_data_extraction(exa_answer_result):\n",
    "    mapping = {\n",
    "        \"title\": \"DATA_SOURCE_NAME\",\n",
    "        \"url\": \"DATA_SOURCE_LINK\",\n",
    "        \"text\": \"DATA_SOURCE_TEXT\",\n",
    "    }\n",
    "    exa_data_source = {\n",
    "        output_key: getattr(exa_answer_result, input_attr, None)  #  fallback to None if missing\n",
    "        for input_attr, output_key in mapping.items()\n",
    "    }\n",
    "    exa_data_source\n",
    "    \n",
    "    exa_result_synthesis_result = chat_response(exa_synthesis_prompt.format(text=data_source.get(\"DATA_SOURCE_TEXT\"), component=\"Number of Educational Institutions in the u.s\"))\n",
    "    exa_result_synthesis_json = json.loads(exa_result_synthesis_result)\n",
    "    exa_data_source = exa_data_source | exa_result_synthesis_json\n",
    "    return exa_data_source\n",
    "\n",
    "\n",
    "exa_answer_result = result.citations[0]\n",
    "exa_data_extraction(exa_answer_result)\n",
    "\n"
   ]
  },
  {
   "cell_type": "code",
   "execution_count": null,
   "id": "3a067b2c-cfa8-474b-836f-764570d34bcf",
   "metadata": {
    "jupyter": {
     "source_hidden": true
    },
    "scrolled": true
   },
   "outputs": [],
   "source": [
    "exa_answer_citations = result.citations\n",
    "results = []\n",
    "with ThreadPoolExecutor() as executor:\n",
    "    # Submit tasks in parallel\n",
    "    futures = [\n",
    "        executor.submit(exa_data_extraction, exa_answer_result)\n",
    "        for exa_answer_result in exa_answer_citations\n",
    "    ]\n",
    "\n",
    "    # Collect results as they finish\n",
    "    for future in as_completed(futures):\n",
    "        result_json = future.result()\n",
    "        results.append(result_json)  # merge each result\n",
    "\n",
    "print(results)"
   ]
  },
  {
   "cell_type": "code",
   "execution_count": null,
   "id": "d066e2a4-f9c2-4031-b32c-de0280afbfc8",
   "metadata": {},
   "outputs": [],
   "source": [
    "df = pd.DataFrame(results)\n",
    "df"
   ]
  }
 ],
 "metadata": {
  "kernelspec": {
   "display_name": "venv",
   "language": "python",
   "name": "python3"
  },
  "language_info": {
   "codemirror_mode": {
    "name": "ipython",
    "version": 3
   },
   "file_extension": ".py",
   "mimetype": "text/x-python",
   "name": "python",
   "nbconvert_exporter": "python",
   "pygments_lexer": "ipython3",
   "version": "3.11.4"
  }
 },
 "nbformat": 4,
 "nbformat_minor": 5
}
