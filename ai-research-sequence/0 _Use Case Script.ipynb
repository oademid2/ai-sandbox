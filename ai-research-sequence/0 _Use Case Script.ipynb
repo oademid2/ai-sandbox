{
 "cells": [
  {
   "cell_type": "code",
   "execution_count": null,
   "id": "91a4f5b5-5f05-4ea5-8adb-6a58f936d602",
   "metadata": {},
   "outputs": [],
   "source": [
    "# explain different components"
   ]
  },
  {
   "cell_type": "code",
   "execution_count": null,
   "id": "a33ce3a4-0c5d-4a8f-acfa-631d2611b05c",
   "metadata": {},
   "outputs": [],
   "source": []
  },
  {
   "cell_type": "markdown",
   "id": "a22feb04-26ea-4f46-a338-80ac855cc49a",
   "metadata": {},
   "source": [
    "### PART 1: SANDBOX PROMPT ENGINEERING FOR LLM WORK FLOW"
   ]
  },
  {
   "cell_type": "code",
   "execution_count": 1,
   "id": "4ad4def8-fc5a-44f3-8bb8-97b744820593",
   "metadata": {},
   "outputs": [],
   "source": [
    "from dotenv import load_dotenv\n",
    "import json\n",
    "import os\n",
    "from concurrent.futures import ThreadPoolExecutor, as_completed\n",
    "import pandas as pd\n",
    "\n",
    "\n",
    "\n",
    "from openai import OpenAI\n",
    "from exa_py import Exa\n",
    "\n"
   ]
  },
  {
   "cell_type": "code",
   "execution_count": 2,
   "id": "e30533cf-0fab-4416-a72f-5b9c0dc41e11",
   "metadata": {},
   "outputs": [],
   "source": [
    "load_dotenv()  # loads environment variables from .env\n",
    "EXA_API_KEY = os.getenv(\"EXA_API_KEY\")"
   ]
  },
  {
   "cell_type": "code",
   "execution_count": 3,
   "id": "04138f5b-f844-455e-881f-f8d38afdea5a",
   "metadata": {},
   "outputs": [],
   "source": [
    "exa = Exa(EXA_API_KEY)\n",
    "client = OpenAI()"
   ]
  },
  {
   "cell_type": "markdown",
   "id": "b7568c6f-2559-45e6-8dbf-c3ae584cca5c",
   "metadata": {},
   "source": [
    "### Define system message\n",
    "This gives the LLM context on how to behave "
   ]
  },
  {
   "cell_type": "code",
   "execution_count": 4,
   "id": "9ee9beee-96bd-48ba-8dd9-661430f6bdab",
   "metadata": {},
   "outputs": [],
   "source": [
    "system_message = \"\"\"\n",
    "You are a professional market sizing assistant. \n",
    "Your role is to design clear, structured models for market sizing problems, identify and list the key data inputs needed, and suggest possible data sources or proxies when direct data is unavailable. \n",
    "Always present your answers in a structured deconustructed format.\n",
    "\"\"\""
   ]
  },
  {
   "cell_type": "code",
   "execution_count": 5,
   "id": "52d61eec-8c81-45d5-96d3-ff9497b28c8a",
   "metadata": {},
   "outputs": [],
   "source": [
    "def chat_response(prompt,system_message=system_message):\n",
    "    response = client.chat.completions.create(\n",
    "        model=\"gpt-4o\",\n",
    "        messages=[\n",
    "            {\"role\": \"system\", \"content\": system_message},\n",
    "            {\"role\": \"user\", \"content\": prompt}\n",
    "        ]\n",
    "        ,\n",
    "          response_format={ \"type\": \"json_object\" }\n",
    "\n",
    "    )\n",
    "\n",
    "    return response.choices[0].message.content\n",
    "\n",
    "def chat_response_txt(prompt,system_message=system_message):\n",
    "    response = client.chat.completions.create(\n",
    "        model=\"gpt-4o\",\n",
    "        messages=[\n",
    "            {\"role\": \"system\", \"content\": system_message},\n",
    "            {\"role\": \"user\", \"content\": prompt}\n",
    "        ]\n",
    "        \n",
    "    )\n",
    "\n",
    "    return response.choices[0].message.content\n",
    "\n"
   ]
  },
  {
   "cell_type": "markdown",
   "id": "fee2f77c-41cf-47e1-9de6-3881fc9cecca",
   "metadata": {},
   "source": [
    "### Define prompts\n",
    "This is where we'll define all the prompts that get passed into the LLM"
   ]
  },
  {
   "cell_type": "code",
   "execution_count": 6,
   "id": "7557a16f-80a6-45af-80f3-07af67cddd14",
   "metadata": {},
   "outputs": [],
   "source": [
    "market_formula_pre_prompt = \"\"\"\n",
    "I want to size the market for: edtech software management. The software tool allows teachers to manage the logistics of their classrooms.\n",
    "\n",
    "I want the output to be a market size formula.\n",
    "\n",
    "Before generating the formula, are there any clarifying questions to get additional context needed for a good formula?\n",
    "\n",
    "These questions should be able to directly inform the formula inputs. They do not to be detailed / indepth.\n",
    "\"\"\""
   ]
  },
  {
   "cell_type": "code",
   "execution_count": null,
   "id": "81e65023-e53e-4c29-94e5-5295ecc6d15a",
   "metadata": {},
   "outputs": [],
   "source": [
    "t = chat_response_txt(market_formula_pre_prompt)\n",
    "t"
   ]
  },
  {
   "cell_type": "code",
   "execution_count": null,
   "id": "e71ac866-5ce7-46cf-995e-029285907730",
   "metadata": {},
   "outputs": [],
   "source": [
    "market_formula_brainstorm_prompt = \"\"\"\n",
    "I want to size the market for: edtech software management. The software tool allows teachers to manage the logistics of their classrooms.\n",
    "\n",
    "Please return a JSON with the following fields,\n",
    "\n",
    "steps: string - A numbered text overview of all the steps in the market sizing approach. Steps should be clear and sequential, explaining the reasoning process.\n",
    "formula: list of string - market sizing formulas options expressed as a string. Each representing an approach to calculate the market size. Each formula must exclude explicit adoption rate terms (e.g., 'adoption rate', 'penetration rate') but can implicitly account for expected usage segments. Do not use adoption rate / penetration rate or alike as part of the formula. \n",
    "The formula should, if applicable, should already factor in parameters of market adoption (i.e. segments that would vs not use the product)\n",
    "But any sort of adoption rate / penetration rate should not be in the formula.\n",
    "clarifications: list of string  - list of clarifying questions to consider for the formulas that could help improve or iterate\n",
    "\n",
    "\n",
    "\"\"\"\n",
    "\n",
    "market_formula_datasource_prompt = \"\"\"\n",
    "This is the formula which I want to apply for market modelling: {formula}\n",
    "\n",
    "\n",
    "For each component find different sources that can be used to find the data point.\n",
    "\n",
    "Please return the response in JSON format with the following structure\n",
    "\n",
    "\"components\": [\n",
    "  \"component\": \"string - The name of the component in the formula.\",\n",
    "  \"data_sources\": [\n",
    "      \"DATA_COMPONENT\": \"string - The name of the component this data source relates to.\",\n",
    "      \"DATA_SOURCE_NAME\": \"string - The name of the data source.\",\n",
    "      \"DATA_SOURCE_LINK\": \"string - A link (URL) to the data source.\",\n",
    "      \"DATA_SOURCE_OVERVIEW\": \"string - A brief text description or preview of what the data source contains.\",\n",
    "      \"DATA_POINT\": \"number - A numeric value representing the data point extracted from this source.\"\n",
    "  ]\n",
    "  \n",
    "\n",
    "\n",
    "\n",
    "FIELD DEFINITIONS\n",
    "components: A list where each item represents a unique component from the formula.\n",
    "component: The name of the component.\n",
    "data_sources: A list of potential data sources for that component, each containing:\n",
    "    -- DATA_COMPONENT: The component name.\n",
    "    -- DATA_SOURCE_NAME: The name of the data source.\n",
    "    -- DATA_SOURCE_LINK: A direct URL to the data source if available.\n",
    "    -- DATA_SOURCE_OVERVIEW: A brief overview of the data source’s contents or relevance.\n",
    "    -- DATA_POINT: A numeric estimate of the data value from that source.\n",
    "\n",
    "Please ensure the JSON matches this structure exactly.\n",
    "\"\"\"\n",
    "\n"
   ]
  },
  {
   "cell_type": "code",
   "execution_count": null,
   "id": "d1cc8654-7c46-4ccf-861a-9c6da88ec638",
   "metadata": {},
   "outputs": [],
   "source": [
    "print(formula)\n",
    "\n",
    "p = \"\"\"\n",
    "I have a market size formula:{formula}\n",
    "Decompose the formula into each individual component / data.\n",
    "\n",
    "Return this as a json with the following fields:\n",
    "\n",
    "components : list of string, each string is the name of component\"\"\".format(formula = formula)\n",
    "\n",
    "res = chat_response(p)\n",
    "return json.loads(res['components')\n"
   ]
  },
  {
   "cell_type": "code",
   "execution_count": null,
   "id": "72b7de4f-dd88-4d50-a52f-9e36bc6b4280",
   "metadata": {},
   "outputs": [],
   "source": [
    "## generate formula\n",
    "def generate_market_formulas():\n",
    "    market_formula_brainstorm_response = chat_response(market_formula_brainstorm_prompt)\n",
    "    print(market_formula_brainstorm_response)\n",
    "    market_brainstorm_formulas = json.loads(market_formula_brainstorm_response)[\"formula\"]\n",
    "    print(market_brainstorm_formulas)\n",
    "    return market_brainstorm_formulas\n",
    "\n",
    "\n",
    "market_brainstorm_formulas = generate_market_formulas()"
   ]
  },
  {
   "cell_type": "code",
   "execution_count": null,
   "id": "0ad6385e-15d0-447c-b714-69d5d0c9107d",
   "metadata": {},
   "outputs": [],
   "source": [
    "market_formula_datasource_prompt"
   ]
  },
  {
   "cell_type": "code",
   "execution_count": null,
   "id": "77d55de8-e9d1-4360-93c6-578c057d1ac0",
   "metadata": {},
   "outputs": [],
   "source": [
    "## find data for formula\n",
    "formula = market_brainstorm_formulas[0]\n",
    "market_formula_datasource_response = chat_response(market_formula_datasource_prompt.format(formula=formula))\n",
    "print(market_formula_datasource_response)\n",
    "market_formula_datasource = json.loads(market_formula_datasource_response)\n",
    "print(market_formula_datasource_response)"
   ]
  },
  {
   "cell_type": "markdown",
   "id": "2e12edfc-808c-4e2c-abd8-dbc808154653",
   "metadata": {},
   "source": [
    "### Connect to EXA to get data sources"
   ]
  },
  {
   "cell_type": "code",
   "execution_count": null,
   "id": "518623f8-df10-4525-bc30-41a2a895efdf",
   "metadata": {
    "scrolled": true
   },
   "outputs": [],
   "source": [
    "#exa example..\n",
    "result = exa.answer(\n",
    "    \"What is the Number of Educational Institutions in the u.s\",\n",
    "    stream=False,\n",
    "    text=True\n",
    ")\n",
    "\n",
    "print(result)"
   ]
  },
  {
   "cell_type": "code",
   "execution_count": null,
   "id": "82af7f57-5e65-4761-a54e-74e8ead1855a",
   "metadata": {},
   "outputs": [],
   "source": [
    "exa_synthesis_prompt = \"\"\"\n",
    "The following text is from a data source:\n",
    "{text}\n",
    "\n",
    "Please extract a numeric data point for {component}\n",
    "Then provide a short summary of the text as condensed as possible.\n",
    "\n",
    "Please return the response in JSON format with the following structure\n",
    "\n",
    "DATA_POINT: numeric data numeric data point for {component}\n",
    "DATA_SOURCE_OVERVIEW: a short summary of the text. This summary should be an overview of the information contained in the text.\n",
    "\n",
    "\"\"\"\n",
    "\n",
    "def exa_data_extraction(exa_answer_result):\n",
    "    mapping = {\n",
    "        \"title\": \"DATA_SOURCE_NAME\",\n",
    "        \"url\": \"DATA_SOURCE_LINK\",\n",
    "        \"text\": \"DATA_SOURCE_TEXT\",\n",
    "    }\n",
    "    exa_data_source = {\n",
    "        output_key: getattr(exa_answer_result, input_attr, None)  #  fallback to None if missing\n",
    "        for input_attr, output_key in mapping.items()\n",
    "    }\n",
    "    exa_data_source\n",
    "    \n",
    "    exa_result_synthesis_result = chat_response(exa_synthesis_prompt.format(text=data_source.get(\"DATA_SOURCE_TEXT\"), component=\"Number of Educational Institutions in the u.s\"))\n",
    "    exa_result_synthesis_json = json.loads(exa_result_synthesis_result)\n",
    "    exa_data_source = exa_data_source | exa_result_synthesis_json\n",
    "    return exa_data_source\n",
    "\n",
    "\n",
    "exa_answer_result = result.citations[0]\n",
    "exa_data_extraction(exa_answer_result)\n",
    "\n"
   ]
  },
  {
   "cell_type": "code",
   "execution_count": null,
   "id": "3a067b2c-cfa8-474b-836f-764570d34bcf",
   "metadata": {
    "jupyter": {
     "source_hidden": true
    },
    "scrolled": true
   },
   "outputs": [],
   "source": [
    "exa_answer_citations = result.citations\n",
    "results = []\n",
    "with ThreadPoolExecutor() as executor:\n",
    "    # Submit tasks in parallel\n",
    "    futures = [\n",
    "        executor.submit(exa_data_extraction, exa_answer_result)\n",
    "        for exa_answer_result in exa_answer_citations\n",
    "    ]\n",
    "\n",
    "    # Collect results as they finish\n",
    "    for future in as_completed(futures):\n",
    "        result_json = future.result()\n",
    "        results.append(result_json)  # merge each result\n",
    "\n",
    "print(results)"
   ]
  },
  {
   "cell_type": "code",
   "execution_count": null,
   "id": "d066e2a4-f9c2-4031-b32c-de0280afbfc8",
   "metadata": {},
   "outputs": [],
   "source": [
    "df = pd.DataFrame(results)\n",
    "df"
   ]
  }
 ],
 "metadata": {
  "kernelspec": {
   "display_name": "Python 3 (ipykernel)",
   "language": "python",
   "name": "python3"
  },
  "language_info": {
   "codemirror_mode": {
    "name": "ipython",
    "version": 3
   },
   "file_extension": ".py",
   "mimetype": "text/x-python",
   "name": "python",
   "nbconvert_exporter": "python",
   "pygments_lexer": "ipython3",
   "version": "3.11.11"
  }
 },
 "nbformat": 4,
 "nbformat_minor": 5
}
